{
 "cells": [
  {
   "cell_type": "code",
   "execution_count": 1,
   "metadata": {},
   "outputs": [],
   "source": [
    "import matplotlib.pyplot as plt\n",
    "import numpy as np\n",
    "from sklearn.model_selection import train_test_split"
   ]
  },
  {
   "cell_type": "code",
   "execution_count": 2,
   "metadata": {},
   "outputs": [
    {
     "data": {
      "text/plain": [
       "<Figure size 432x288 with 0 Axes>"
      ]
     },
     "metadata": {},
     "output_type": "display_data"
    },
    {
     "data": {
      "image/png": "[encoded data removed]",
      "text/plain": [
       "<Figure size 720x360 with 10 Axes>"
      ]
     },
     "metadata": {},
     "output_type": "display_data"
    }
   ],
   "source": [
    "from sklearn.datasets import load_digits\n",
    "digits = load_digits()\n",
    "plt.gray()\n",
    "fig, axes = plt.subplots(2, 5, figsize=(10, 5),\n",
    "    subplot_kw={'xticks':(), 'yticks': ()}\n",
    ")\n",
    "for ax, img in zip(axes.ravel(), digits.images):\n",
    "    ax.imshow(img)"
   ]
  },
  {
   "cell_type": "code",
   "execution_count": 3,
   "metadata": {},
   "outputs": [
    {
     "data": {
      "text/plain": [
       "dict_keys(['data', 'target', 'frame', 'feature_names', 'target_names', 'images', 'DESCR'])"
      ]
     },
     "execution_count": 3,
     "metadata": {},
     "output_type": "execute_result"
    }
   ],
   "source": [
    "digits.keys()"
   ]
  },
  {
   "cell_type": "code",
   "execution_count": null,
   "metadata": {},
   "outputs": [],
   "source": [
    "from sklearn.decomposition import PCA\n",
    "pca = PCA(n_components=2).fit(digits.data)\n",
    "digits_pca = pca.transform(digits.data)\n",
    "\n",
    "colors = [\"#476A2A\", \"#7851B8\", \"#BD3430\", \"#4A2D4E\", \"#875525\",\n",
    "\"#A83683\", \"#4E655E\", \"#853541\", \"#3A3120\", \"#535D8E\"]\n",
    "plt.figure(figsize=(13, 13))\n",
    "plt.xlim(digits_pca[:, 0].min(), digits_pca[:, 0].max()+1)\n",
    "plt.ylim(digits_pca[:, 1].min(), digits_pca[:, 1].max()+1)\n",
    "plt.xlabel(\"First principal component\")\n",
    "plt.ylabel(\"Second principal component\")\n",
    "for i in range(len(digits.data)):\n",
    "# actually plot the digits as text instead of using scatter\n",
    "    plt.text(digits_pca[i, 0], digits_pca[i, 1], str(digits.target[i]),\n",
    "    color = colors[digits.target[i]],\n",
    "    fontdict={'weight': 'bold', 'size': 9}\n",
    ")"
   ]
  },
  {
   "cell_type": "code",
   "execution_count": null,
   "metadata": {},
   "outputs": [],
   "source": [
    "from sklearn.manifold import TSNE\n",
    "tsne = TSNE(random_state=42)\n",
    "digits_tsne = tsne.fit_transform(digits.data)\n",
    "\n",
    "colors = [\"#476A2A\", \"#7851B8\", \"#BD3430\", \"#4A2D4E\", \"#875525\",\n",
    "\"#A83683\", \"#4E655E\", \"#853541\", \"#3A3120\", \"#535D8E\"]\n",
    "plt.figure(figsize=(10, 10))\n",
    "plt.xlim(digits_tsne[:, 0].min(), digits_tsne[:, 0].max()+1)\n",
    "plt.ylim(digits_tsne[:, 1].min(), digits_tsne[:, 1].max()+1)\n",
    "plt.xlabel(\"t-SNE feature 0\")\n",
    "plt.ylabel(\"t-SNE feature 1\")\n",
    "for i in range(len(digits.data)):\n",
    "# actually plot the digits as text instead of using scatter\n",
    "    plt.text(digits_tsne[i, 0], digits_tsne[i, 1], str(digits.target[i]),\n",
    "    color = colors[digits.target[i]],\n",
    "    fontdict={'weight': 'bold', 'size': 9}\n",
    "    )"
   ]
  },
  {
   "cell_type": "code",
   "execution_count": 3,
   "metadata": {},
   "outputs": [],
   "source": [
    "from sklearn.preprocessing import StandardScaler, RobustScaler, MinMaxScaler, Normalizer\n",
    "x_train, x_test, y_train, y_test = train_test_split(digits.data, digits.target, random_state=0)"
   ]
  },
  {
   "cell_type": "code",
   "execution_count": null,
   "metadata": {},
   "outputs": [],
   "source": [
    "stdscaler = StandardScaler().fit(x_train)\n",
    "x_train_stdscaled = stdscaler.transform(x_train)\n",
    "x_test_stdscaled = stdscaler.transform(x_test)\n",
    "print(x_train_stdscaled.min(axis=0))\n",
    "print(x_train_stdscaled.max(axis=0))\n",
    "print(x_test_stdscaled.min(axis=0))\n",
    "print(x_test_stdscaled.max(axis=0))"
   ]
  },
  {
   "cell_type": "code",
   "execution_count": null,
   "metadata": {},
   "outputs": [],
   "source": [
    "roscaler = RobustScaler().fit(x_train)\n",
    "x_train_roscaled = roscaler.transform(x_train)\n",
    "x_test_roscaled = roscaler.transform(x_test)\n",
    "print(x_train_roscaled.min(axis=0))\n",
    "print(x_train_roscaled.max(axis=0))\n",
    "print(x_test_roscaled.min(axis=0))\n",
    "print(x_test_roscaled.max(axis=0))"
   ]
  },
  {
   "cell_type": "code",
   "execution_count": null,
   "metadata": {},
   "outputs": [],
   "source": [
    "mmscaler = MinMaxScaler().fit(x_train)\n",
    "x_train_mmscaled = mmscaler.transform(x_train)\n",
    "x_test_mmscaled = mmscaler.transform(x_test)\n",
    "print(x_train_mmscaled.min(axis=0))\n",
    "print(x_train_mmscaled.max(axis=0))\n",
    "print(x_test_mmscaled.min(axis=0))\n",
    "print(x_test_mmscaled.max(axis=0))"
   ]
  },
  {
   "cell_type": "code",
   "execution_count": null,
   "metadata": {},
   "outputs": [],
   "source": [
    "nscaler = Normalizer().fit(x_train)\n",
    "x_train_nscaled = nscaler.transform(x_train)\n",
    "x_test_nscaled = nscaler.transform(x_test)\n",
    "print(x_train_nscaled.min(axis=0))\n",
    "print(x_train_nscaled.max(axis=0))\n",
    "print(x_test_nscaled.min(axis=0))\n",
    "print(x_test_nscaled.max(axis=0))"
   ]
  },
  {
   "cell_type": "code",
   "execution_count": null,
   "metadata": {},
   "outputs": [],
   "source": [
    "import mglearn\n",
    "mglearn.plots.plot_scaling()"
   ]
  }
 ],
 "metadata": {
  "interpreter": {
   "hash": "ac59ebe37160ed0dfa835113d9b8498d9f09ceb179beaac4002f036b9467c963"
  },
  "kernelspec": {
   "display_name": "Python 3.9.0 64-bit",
   "language": "python",
   "name": "python3"
  },
  "language_info": {
   "codemirror_mode": {
    "name": "ipython",
    "version": 3
   },
   "file_extension": ".py",
   "mimetype": "text/x-python",
   "name": "python",
   "nbconvert_exporter": "python",
   "pygments_lexer": "ipython3",
   "version": "3.9.0"
  },
  "orig_nbformat": 4
 },
 "nbformat": 4,
 "nbformat_minor": 2
}
